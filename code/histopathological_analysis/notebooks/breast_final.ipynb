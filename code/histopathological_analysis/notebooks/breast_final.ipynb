{
 "cells": [
  {
   "cell_type": "code",
   "execution_count": null,
   "metadata": {},
   "outputs": [],
   "source": [
    "import os\n",
    "\n",
    "import prismtoolbox as ptb\n",
    "import prismtoolbox.wsiemb as ptb_emb\n",
    "\n",
    "import numpy as np\n",
    "import pandas as pd\n",
    "import seaborn as sns\n",
    "import matplotlib.pyplot as plt\n",
    "from statannotations.Annotator import Annotator\n",
    "from pathlib import Path"
   ]
  },
  {
   "cell_type": "code",
   "execution_count": null,
   "metadata": {},
   "outputs": [],
   "source": [
    "df = pd.read_csv(\"../materials/dataset_breast_final_v2.csv\")\n",
    "df"
   ]
  },
  {
   "cell_type": "markdown",
   "metadata": {},
   "source": [
    "# Daisy clustering analysis"
   ]
  },
  {
   "cell_type": "code",
   "execution_count": null,
   "metadata": {},
   "outputs": [],
   "source": [
    "output_dir = \"../Results/BREAST/clustering/Daisy_analysis\"\n",
    "Path(output_dir).mkdir(parents=True, exist_ok=True)"
   ]
  },
  {
   "cell_type": "code",
   "execution_count": null,
   "metadata": {},
   "outputs": [],
   "source": [
    "emb_type = \"clam\""
   ]
  },
  {
   "cell_type": "code",
   "execution_count": null,
   "metadata": {},
   "outputs": [],
   "source": [
    "slides_to_analyse = pd.read_csv(f\"../materials/slides_to_analyse_DAISY_analysis_BREAST.csv\")\n",
    "slide_names = slides_to_analyse[\"slide_name\"].values\n",
    "feats_dir = f\"../Results/BREAST/clustering/feats_80_{emb_type}/\"\n",
    "feats_files = [os.path.join(feats_dir, slide_name+\".pt\") for slide_name in slide_names]\n",
    "emb_processor = ptb_emb.EmbeddingProcessor(feats_files, slide_ids=slide_names, cmap=\"Set1\")"
   ]
  },
  {
   "cell_type": "code",
   "execution_count": null,
   "metadata": {},
   "outputs": [],
   "source": [
    "optimal_nb, scores = emb_processor.get_optimal_number_clusters(\"kmeans_mini_batch\",\n",
    "                                                                init=\"k-means++\",\n",
    "                                                                init_size = 3000,\n",
    "                                                                batch_size=1000,\n",
    "                                                                n_init=500,\n",
    "                                                                max_no_improvement=100,\n",
    "                                                                min_clusters=7,\n",
    "                                                                max_clusters=12,\n",
    "                                                                metric_name=\"davies_bouldin\",\n",
    "                                                                normalize=True,\n",
    "                                                                random_state=1)\n",
    "optimal_nb, scores"
   ]
  },
  {
   "cell_type": "code",
   "execution_count": null,
   "metadata": {},
   "outputs": [],
   "source": [
    "pd.DataFrame(scores).to_csv(os.path.join(output_dir, f\"scores_{emb_type}.csv\"), index=False)"
   ]
  },
  {
   "cell_type": "code",
   "execution_count": null,
   "metadata": {},
   "outputs": [],
   "source": [
    "emb_processor.create_cluster_model(\"kmeans_mini_batch\",\n",
    "                                    n_clusters=optimal_nb,\n",
    "                                    init=\"k-means++\",\n",
    "                                    init_size = 3000,\n",
    "                                    batch_size=1000,\n",
    "                                    n_init=500,\n",
    "                                    max_no_improvement=100,\n",
    "                                    random_state=1)"
   ]
  },
  {
   "cell_type": "code",
   "execution_count": null,
   "metadata": {},
   "outputs": [],
   "source": [
    "emb_processor.save_cluster_model(os.path.join(output_dir, f\"cluster_model_{emb_type}.pkl\"))"
   ]
  },
  {
   "cell_type": "code",
   "execution_count": null,
   "metadata": {},
   "outputs": [],
   "source": [
    "emb_processor.import_cluster_model(os.path.join(output_dir, f\"cluster_model_{emb_type}.pkl\"))"
   ]
  },
  {
   "cell_type": "code",
   "execution_count": null,
   "metadata": {},
   "outputs": [],
   "source": [
    "cluster_percentages = [emb_processor.get_cluster_percentages_for_slide(slide_name.split(\".\")[0]+\"\") for slide_name in df[df[\"ihc_slide_id\"].str.replace(\".svs\", \"\").isin(slide_names)][\"ihc_slide_id\"].values]\n",
    "labels = df[df[\"ihc_slide_id\"].str.replace(\".svs\", \"\").isin(slide_names)].ORR.map({\"Complete response\": \"Responder\", \"Partial response\": \"Responder\", \"Progressive disease\": \"Non-responder\", \"Stable disease\": \"Non-responder\"}).values\n",
    "labels"
   ]
  },
  {
   "cell_type": "code",
   "execution_count": null,
   "metadata": {},
   "outputs": [],
   "source": [
    "df_plot = pd.DataFrame(cluster_percentages)\n",
    "df_plot[\"Response to treatment\"] = labels\n",
    "df_plot.iloc[:,:-1] *= 100\n",
    "df_plot.to_csv(os.path.join(output_dir, f\"cluster_percentages_{emb_type}.csv\"), index=False)\n",
    "df_plot = df_plot.melt(id_vars='Response to treatment', var_name='Cluster', value_name='Percentage')\n",
    "df_plot.to_csv(os.path.join(output_dir, f\"cluster_percentages_{emb_type}_melted.csv\"), index=False)"
   ]
  },
  {
   "cell_type": "code",
   "execution_count": null,
   "metadata": {},
   "outputs": [],
   "source": [
    "plt.figure(figsize=(12, 6))\n",
    "ax = sns.boxplot(x='Cluster', y='Percentage', hue='Response to treatment', data=df_plot)\n",
    "ax.set_title('Boxplot of Cluster Percentages Stratified  by Response to Treatment')\n",
    "plt.savefig(os.path.join(output_dir, f\"boxplot_{emb_type}.png\"), dpi=300, bbox_inches=\"tight\")"
   ]
  },
  {
   "cell_type": "markdown",
   "metadata": {},
   "source": [
    "# New clustering analysis"
   ]
  },
  {
   "cell_type": "code",
   "execution_count": null,
   "metadata": {},
   "outputs": [],
   "source": [
    "output_dir = \"../Results/BREAST/clustering/New_cluster_analysis\"\n",
    "Path(output_dir).mkdir(parents=True, exist_ok=True)"
   ]
  },
  {
   "cell_type": "code",
   "execution_count": null,
   "metadata": {},
   "outputs": [],
   "source": [
    "with_DAB = False\n",
    "suffix = \"DAB\" if with_DAB else \"only\""
   ]
  },
  {
   "cell_type": "code",
   "execution_count": null,
   "metadata": {},
   "outputs": [],
   "source": [
    "reg_HE2IHC = \"../Results/BREAST/clustering/reg_HE2IHC/\"\n",
    "slides = []\n",
    "error_HE2IHC = []\n",
    "for slide in os.listdir(reg_HE2IHC):\n",
    "    slides.append(slide)\n",
    "    df_HE2IHC = pd.read_csv(os.path.join(reg_HE2IHC, slide, \"data\", f\"{slide}_summary.csv\"))\n",
    "    error_HE2IHC.append(df_HE2IHC[\"non_rigid_rTRE\"].dropna().values[0])"
   ]
  },
  {
   "cell_type": "code",
   "execution_count": null,
   "metadata": {},
   "outputs": [],
   "source": [
    "df_reg_error = pd.DataFrame({\"slide\": slides, \"error_HE2IHC\": error_HE2IHC})\n",
    "df_reg_error.sort_values(by=\"error_HE2IHC\", ascending=False).head(10)"
   ]
  },
  {
   "cell_type": "code",
   "execution_count": null,
   "metadata": {},
   "outputs": [],
   "source": [
    "slides_to_analyse = pd.read_csv(f\"../materials/slides_to_analyse_New_cluster_analysis_BREAST.csv\")\n",
    "slide_names = slides_to_analyse[\"slide_name\"].values\n",
    "feats_dir = \"../Results/BREAST/clustering/feats_128_cell_stain_based_reg_warped_merged_HE/\"\n",
    "feats_files = [os.path.join(feats_dir, slide_name+\".pt\") for slide_name in slide_names]\n",
    "emb_processor = ptb_emb.EmbeddingProcessor(feats_files, embeddings_names=os.path.join(feats_dir, \"embeddings_names.csv\"), slide_ids=slide_names, cmap=\"Set1\")#"
   ]
  },
  {
   "cell_type": "code",
   "execution_count": null,
   "metadata": {},
   "outputs": [],
   "source": [
    "if with_DAB:\n",
    "    selected_feats = [name for name in emb_processor.embeddings_names if \"cells\" in name or \"DAB\" in name]\n",
    "else:\n",
    "    selected_feats = [name for name in emb_processor.embeddings_names if \"cells\" in name]"
   ]
  },
  {
   "cell_type": "code",
   "execution_count": null,
   "metadata": {},
   "outputs": [],
   "source": [
    "optimal_nb, scores = emb_processor.get_optimal_number_clusters(\"kmeans\",\n",
    "                                          selected_features=selected_feats,\n",
    "                                          n_init=20,\n",
    "                                          min_clusters=7,\n",
    "                                          max_clusters=12,\n",
    "                                          metric_name=\"calinski_harabasz\",\n",
    "                                          normalize=True,\n",
    "                                          random_state=1)\n",
    "optimal_nb, scores"
   ]
  },
  {
   "cell_type": "code",
   "execution_count": null,
   "metadata": {},
   "outputs": [],
   "source": [
    "pd.DataFrame(scores).to_csv(os.path.join(output_dir, f\".scores_cells_feats_{suffix}.csv\"), index=False)"
   ]
  },
  {
   "cell_type": "code",
   "execution_count": null,
   "metadata": {},
   "outputs": [],
   "source": [
    "emb_processor.create_cluster_model(\"kmeans\", \n",
    "                                   normalize=True,\n",
    "                                   n_clusters=optimal_nb,\n",
    "                                   selected_features=selected_feats,\n",
    "                                   n_init=20,\n",
    "                                   random_state=1)"
   ]
  },
  {
   "cell_type": "code",
   "execution_count": null,
   "metadata": {},
   "outputs": [],
   "source": [
    "emb_processor.save_cluster_model(os.path.join(output_dir, f\"cluster_model_cells_feats_{suffix}.pkl\"))"
   ]
  },
  {
   "cell_type": "code",
   "execution_count": null,
   "metadata": {},
   "outputs": [],
   "source": [
    "emb_processor.import_cluster_model(os.path.join(output_dir, f\"cluster_model_cells_feats_{suffix}.pkl\"))"
   ]
  },
  {
   "cell_type": "code",
   "execution_count": null,
   "metadata": {},
   "outputs": [],
   "source": [
    "cluster_percentages = [emb_processor.get_cluster_percentages_for_slide(slide_name.split(\".\")[0]+\"\", selected_features=selected_feats) for slide_name in df[df[\"he_slide_id\"].str.replace(\".svs\", \"\").isin(slide_names)][\"he_slide_id\"].values]\n",
    "labels = df[df[\"he_slide_id\"].str.replace(\".svs\", \"\").isin(slide_names)].ORR.map({\"Complete response\": \"Responder\", \"Partial response\": \"Responder\", \"Progressive disease\": \"Non-responder\", \"Stable disease\": \"Non-responder\"}).values\n",
    "labels"
   ]
  },
  {
   "cell_type": "code",
   "execution_count": null,
   "metadata": {},
   "outputs": [],
   "source": [
    "df_plot = pd.DataFrame(cluster_percentages)\n",
    "df_plot[\"Response to treatment\"] = labels\n",
    "df_plot.iloc[:,:-1] *= 100\n",
    "pd.concat([df_plot, df[df.he_slide_id.isin(slides_to_analyse)][[\"TdxNumber \", \"Additional Specimen ID\"]].reset_index(drop=True)], axis=1).to_csv(\"cluster_percentage_without_dab_with_info_patients.csv\", index=False)\n",
    "df_plot.to_csv(os.path.join(output_dir, f\"cluster_percentages_cells_feats_{suffix}.csv\"), index=False)\n",
    "df_plot = df_plot.melt(id_vars='Response to treatment', var_name='Cluster', value_name='Percentage')\n",
    "df_plot.to_csv(os.path.join(output_dir, f\"cluster_percentages_cells_feats_{suffix}_melted.csv\"), index=False)"
   ]
  },
  {
   "cell_type": "code",
   "execution_count": null,
   "metadata": {},
   "outputs": [],
   "source": [
    "plt.figure(figsize=(12, 6))\n",
    "ax = sns.boxplot(x='Cluster', y='Percentage', hue='Response to treatment', data=df_plot)\n",
    "ax.set_title('Boxplot of Cluster Percentages Stratified  by Response to Treatment')\n",
    "plt.savefig(os.path.join(output_dir, f\"boxplot_cells_feats_{suffix}.png\"), dpi=300, bbox_inches=\"tight\")"
   ]
  },
  {
   "cell_type": "code",
   "execution_count": null,
   "metadata": {},
   "outputs": [],
   "source": [
    "emb_mean, emb_std = (emb_processor.embeddings_stats[\"mean\"], emb_processor.embeddings_stats[\"std\"])\n",
    "selected_feats_idx = np.array([i for i, name in enumerate(emb_processor.embeddings_names) if name in selected_feats])\n",
    "features = pd.DataFrame(emb_processor.embeddings_matrix[:, selected_feats_idx], columns=selected_feats)\n",
    "features['cluster'] = emb_processor.cluster_model.predict(((emb_processor.embeddings_matrix - emb_mean) / (emb_std + emb_processor.eps))[:, selected_feats_idx])\n",
    "features_to_plot = [name for name in features.columns if \"DAB_avg\" in name or \"N_cells\" in name] + [\"cluster\"]\n",
    "features.loc[:, features_to_plot].to_csv(os.path.join(output_dir, f\"features_cells_feats_{suffix}.csv\"), index=False)"
   ]
  },
  {
   "cell_type": "code",
   "execution_count": null,
   "metadata": {},
   "outputs": [],
   "source": [
    "cluster_idx = 0\n",
    "slide_dir_HE = 'path to HE slides processed for registration'\n",
    "for slide_HE in slides_to_analyse:\n",
    "    slide_name_HE = slide_HE.split(\".\")[0]\n",
    "    tdx_nb = slide_name_HE.split(\"-B0\")[0]\n",
    "    print(slide_name_HE)\n",
    "    WSI_object = ptb.WSI(os.path.join(slide_dir_HE, f\"{slide_name_HE}.ome.tif\"), engine=\"tiffslide\")\n",
    "    WSI_object.load_patches(f\"../Results/BREAST/clustering/patches_128_overlap_0_HE_warped/{slide_name_HE}.h5\")\n",
    "    cluster_assignments = emb_processor.get_cluster_assignments_for_slide(slide_name_HE, selected_features=selected_feats)\n",
    "    idx = np.arange(len(WSI_object.coords))\n",
    "    WSI_object.save_patches(\n",
    "        os.path.join(output_dir, f\"cluster_{cluster_idx}_geojson_{suffix}\"),\n",
    "        file_format=\"geojson\",\n",
    "        selected_idx=idx[cluster_assignments == 0],\n",
    "        merge=False,\n",
    "        label=f\"cluster_{cluster_idx}\",\n",
    "        color=emb_processor.cluster_colors[cluster_idx].tolist(),\n",
    "        append_to_existing_file=True,\n",
    "    )"
   ]
  },
  {
   "cell_type": "markdown",
   "metadata": {},
   "source": [
    "# Comparison with EOT for clustering analysis"
   ]
  },
  {
   "cell_type": "code",
   "execution_count": null,
   "metadata": {},
   "outputs": [],
   "source": [
    "output_dir = \"../Results/BREAST_EOT\"\n",
    "Path(output_dir).mkdir(parents=True, exist_ok=True)"
   ]
  },
  {
   "cell_type": "code",
   "execution_count": null,
   "metadata": {},
   "outputs": [],
   "source": [
    "with_DAB = True\n",
    "suffix = \"DAB\" if with_DAB else \"only\""
   ]
  },
  {
   "cell_type": "code",
   "execution_count": null,
   "metadata": {},
   "outputs": [],
   "source": [
    "reg_HE2IHC = \"../Results/BREAST_EOT/reg_HE2IHC/\"\n",
    "slides = []\n",
    "error_HE2IHC = []\n",
    "for slide in os.listdir(reg_HE2IHC):\n",
    "    slides.append(slide)\n",
    "    df_HE2IHC = pd.read_csv(os.path.join(reg_HE2IHC, slide, \"data\", f\"{slide}_summary.csv\"))\n",
    "    error_HE2IHC.append(df_HE2IHC[\"non_rigid_rTRE\"].dropna().values[0])"
   ]
  },
  {
   "cell_type": "code",
   "execution_count": null,
   "metadata": {},
   "outputs": [],
   "source": [
    "df_reg_error = pd.DataFrame({\"slide\": slides, \"error_HE2IHC\": error_HE2IHC})\n",
    "df_reg_error.sort_values(by=\"error_HE2IHC\", ascending=False).head(10)"
   ]
  },
  {
   "cell_type": "code",
   "execution_count": null,
   "metadata": {},
   "outputs": [],
   "source": [
    "df_baseline = pd.read_csv(\"../materials/dataset_breast_final_v2.csv\")\n",
    "df_eot = pd.read_csv(\"../materials/dataset_breast_eot.csv\")"
   ]
  },
  {
   "cell_type": "code",
   "execution_count": null,
   "metadata": {},
   "outputs": [],
   "source": [
    "df_baseline = pd.read_csv(\"../materials/dataset_breast_final_v2.csv\")\n",
    "df_eot = pd.read_csv(\"../materials/dataset_breast_eot.csv\")\n",
    "df = pd.merge(df_eot, df_baseline.loc[:, ~df_baseline.columns.isin([\"TdxNumber \", \"ihc_slide_id\", \"he_slide_id\"])], on=\"Additional Specimen ID\", how=\"inner\")\n",
    "tdx_to_remove = pd.read_csv(\"../materials/tdx_to_remove_breast_eot.csv\")[\"tdx_to_remove\"].values\n",
    "slides_to_analyse = df[~df[\"TdxNumber\"].isin(tdx_to_remove)][\"he_slide_id\"].values\n",
    "feats_dir = \"../Results/BREAST_EOT/feats_128_cell_stain_based_reg_warped_merged_HE/\"\n",
    "feats_files = [os.path.join(feats_dir, file) for file in os.listdir(feats_dir) if (file.replace(\".pt\", \".svs\") in slides_to_analyse)]\n",
    "slide_names = [os.path.basename(file).split(\".\")[0] for file in feats_files if (os.path.basename(file).replace(\".pt\", \".svs\") in slides_to_analyse)]\n",
    "emb_processor = ptb_emb.EmbeddingProcessor(feats_files, embeddings_names=os.path.join(feats_dir, \"embeddings_names.csv\"), slide_ids=slide_names, cmap=\"Set1\")"
   ]
  },
  {
   "cell_type": "code",
   "execution_count": null,
   "metadata": {},
   "outputs": [],
   "source": [
    "if with_DAB:\n",
    "    selected_feats = [name for name in emb_processor.embeddings_names if \"cells\" in name or \"DAB\" in name]\n",
    "else:\n",
    "    selected_feats = [name for name in emb_processor.embeddings_names if \"cells\" in name]"
   ]
  },
  {
   "cell_type": "code",
   "execution_count": null,
   "metadata": {},
   "outputs": [],
   "source": [
    "emb_processor.import_cluster_model(os.path.join(\"../Results/BREAST/clustering/New_cluster_analysis\", f\"cluster_model_cells_feats_{suffix}.pkl\"))"
   ]
  },
  {
   "cell_type": "code",
   "execution_count": null,
   "metadata": {},
   "outputs": [],
   "source": [
    "cluster_percentages = [emb_processor.get_cluster_percentages_for_slide(slide_name.split(\".\")[0]+\"\", selected_features=selected_feats) for slide_name in slides_to_analyse]\n",
    "labels = df[df.he_slide_id.isin(slides_to_analyse)].ORR.map({\"Complete response\": \"Responder\", \"Partial response\": \"Responder\", \"Progressive disease\": \"Non-responder\", \"Stable disease\": \"Non-responder\"}).values\n",
    "labels"
   ]
  },
  {
   "cell_type": "code",
   "execution_count": null,
   "metadata": {},
   "outputs": [],
   "source": [
    "df_plot = pd.DataFrame(cluster_percentages)\n",
    "df_plot[\"Response to treatment\"] = labels\n",
    "df_plot.iloc[:,:-1] *= 100"
   ]
  },
  {
   "cell_type": "code",
   "execution_count": null,
   "metadata": {},
   "outputs": [],
   "source": [
    "pd.concat([df_plot, df[df.he_slide_id.isin(slides_to_analyse)][[\"TdxNumber\", \"Additional Specimen ID\"]].reset_index(drop=True)], axis=1).to_csv(\"cluster_percentages_with_dab_with_info_patients_EOT.csv\", index=False)"
   ]
  },
  {
   "cell_type": "markdown",
   "metadata": {},
   "source": [
    "# Cell staining distribution analysis"
   ]
  },
  {
   "cell_type": "code",
   "execution_count": null,
   "metadata": {},
   "outputs": [],
   "source": [
    "output_dir = \"../Results/BREAST/nuclei_IHC/Cell_staining_distribution\"\n",
    "Path(output_dir).mkdir(parents=True, exist_ok=True)"
   ]
  },
  {
   "cell_type": "code",
   "execution_count": null,
   "metadata": {},
   "outputs": [],
   "source": [
    "from sklearn.cluster import KMeans"
   ]
  },
  {
   "cell_type": "code",
   "execution_count": null,
   "metadata": {},
   "outputs": [],
   "source": [
    "labels = df.ORR.map({\"Complete response\": \"Responder\", \"Partial response\": \"Responder\", \"Progressive disease\": \"Non-responder\", \"Stable disease\": \"Non-responder\"}).values\n",
    "labels"
   ]
  },
  {
   "cell_type": "code",
   "execution_count": null,
   "metadata": {},
   "outputs": [],
   "source": [
    "detection_dir = \"../Results/BREAST/nuclei_IHC/QuPath/detection_measurements/\"\n",
    "slides = [file.replace(\".csv\", \"\") for file in os.listdir(detection_dir)]\n",
    "detections = [pd.read_csv(os.path.join(detection_dir, file), sep=\"\\t\") for file in os.listdir(detection_dir)]"
   ]
  },
  {
   "cell_type": "code",
   "execution_count": null,
   "metadata": {},
   "outputs": [],
   "source": [
    "values = np.concatenate([detections[i]['DAB: Cell: Mean'].values for i in range(len(detections))])\n",
    "kmeans = KMeans(n_clusters=2, random_state=0).fit(values.reshape(-1, 1))\n",
    "kmeans.cluster_centers_.mean()"
   ]
  },
  {
   "cell_type": "code",
   "execution_count": null,
   "metadata": {},
   "outputs": [],
   "source": [
    "features = {slides[i]: detection[(detection[\"DAB: Cell: Mean\"] > 0.14)&(detection[\"DAB: Cytoplasm: Min\"] > 0.)][\"DAB: Cytoplasm: Variance\"].mean() for i, detection in enumerate(detections)}"
   ]
  },
  {
   "cell_type": "code",
   "execution_count": null,
   "metadata": {},
   "outputs": [],
   "source": [
    "reorganised_features = [features[slide_id.replace(\".svs\", \"\")] for slide_id in df[\"ihc_slide_id\"].values]"
   ]
  },
  {
   "cell_type": "code",
   "execution_count": null,
   "metadata": {},
   "outputs": [],
   "source": [
    "df_plot = pd.DataFrame({\"cytoplasm_dab_avg_var\": reorganised_features})\n",
    "df_plot[\"Response to treatment\"] = labels\n",
    "df_plot = df_plot.dropna()\n",
    "df_plot.to_csv(os.path.join(output_dir, \"cytoplasm_dab_avg_var.csv\"), index=False)"
   ]
  },
  {
   "cell_type": "code",
   "execution_count": null,
   "metadata": {},
   "outputs": [],
   "source": [
    "plt.figure(figsize=(12, 6))\n",
    "ax = sns.boxplot(x='Response to treatment', y='cytoplasm_dab_avg_var', data=df_plot)\n",
    "ax.set_title('Boxplot of the average DAB variance measured in cytoplasm stratified  by response to treatment')\n",
    "pairs=[(\"Non-responder\", \"Responder\")]\n",
    "annotator = Annotator(ax, pairs, data=df_plot, x=\"Response to treatment\", y=\"cytoplasm_dab_avg_var\")\n",
    "annotator.configure(test='Mann-Whitney', text_format='star', loc='inside')\n",
    "annotator.apply_and_annotate()\n",
    "plt.savefig(os.path.join(output_dir, \"boxplot_cytoplasm_dab_avg_var.png\"), dpi=300, bbox_inches=\"tight\")"
   ]
  },
  {
   "cell_type": "code",
   "execution_count": null,
   "metadata": {},
   "outputs": [],
   "source": []
  }
 ],
 "metadata": {
  "kernelspec": {
   "display_name": "CrossStainSSL",
   "language": "python",
   "name": "python3"
  },
  "language_info": {
   "codemirror_mode": {
    "name": "ipython",
    "version": 3
   },
   "file_extension": ".py",
   "mimetype": "text/x-python",
   "name": "python",
   "nbconvert_exporter": "python",
   "pygments_lexer": "ipython3",
   "version": "3.10.13"
  }
 },
 "nbformat": 4,
 "nbformat_minor": 2
}
