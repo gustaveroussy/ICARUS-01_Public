{
 "cells": [
  {
   "cell_type": "code",
   "execution_count": 172,
   "metadata": {},
   "outputs": [],
   "source": [
    "import os\n",
    "import torch\n",
    "\n",
    "import prismtoolbox as ptb\n",
    "import prismtoolbox.wsiemb as ptb_emb\n",
    "\n",
    "import numpy as np\n",
    "import pandas as pd\n",
    "import seaborn as sns\n",
    "import matplotlib.pyplot as plt\n",
    "from statannotations.Annotator import Annotator\n",
    "from pathlib import Path"
   ]
  },
  {
   "cell_type": "code",
   "execution_count": null,
   "metadata": {},
   "outputs": [],
   "source": [
    "df = pd.read_csv(\"../materials/dataset_lung_final_v2.csv\")\n",
    "df"
   ]
  },
  {
   "cell_type": "markdown",
   "metadata": {},
   "source": [
    "# Daisy clustering analysis"
   ]
  },
  {
   "cell_type": "code",
   "execution_count": 441,
   "metadata": {},
   "outputs": [],
   "source": [
    "output_dir = \"../Results/LUNG/clustering/Daisy_analysis\"\n",
    "Path(output_dir).mkdir(parents=True, exist_ok=True)"
   ]
  },
  {
   "cell_type": "code",
   "execution_count": 471,
   "metadata": {},
   "outputs": [],
   "source": [
    "emb_type = \"clam\""
   ]
  },
  {
   "cell_type": "code",
   "execution_count": 472,
   "metadata": {},
   "outputs": [],
   "source": [
    "slides_to_analyse = pd.read_csv(f\"../materials/slides_to_analyse_DAISY_analysis_LUNG.csv\")\n",
    "slide_names = slides_to_analyse[\"slide_name\"].values\n",
    "feats_dir = f\"../Results/LUNG/clustering/feats_80_{emb_type}/\"\n",
    "feats_files = [os.path.join(feats_dir, slide_name+\".pt\") for slide_name in slide_names]\n",
    "emb_processor = ptb_emb.EmbeddingProcessor(feats_files, slide_ids=slide_names, cmap=\"Set1\")"
   ]
  },
  {
   "cell_type": "code",
   "execution_count": null,
   "metadata": {},
   "outputs": [],
   "source": [
    "optimal_nb, scores = emb_processor.get_optimal_number_clusters(\"kmeans_mini_batch\",\n",
    "                                                                init=\"k-means++\",\n",
    "                                                                init_size = 3000,\n",
    "                                                                batch_size=1000,\n",
    "                                                                n_init=500,\n",
    "                                                                max_no_improvement=100,\n",
    "                                                                min_clusters=7,\n",
    "                                                                max_clusters=12,\n",
    "                                                                metric_name=\"davies_bouldin\",\n",
    "                                                                normalize=True,\n",
    "                                                                random_state=1)\n",
    "optimal_nb, scores"
   ]
  },
  {
   "cell_type": "code",
   "execution_count": 24,
   "metadata": {},
   "outputs": [],
   "source": [
    "pd.DataFrame(scores).to_csv(os.path.join(output_dir, f\"scores_{emb_type}.csv\"), index=False)"
   ]
  },
  {
   "cell_type": "code",
   "execution_count": 405,
   "metadata": {},
   "outputs": [],
   "source": [
    "emb_processor.create_cluster_model(\"kmeans_mini_batch\",\n",
    "                                    n_clusters=8,\n",
    "                                    init=\"k-means++\",\n",
    "                                    init_size = 3000,\n",
    "                                    batch_size=1000,\n",
    "                                    n_init=500,\n",
    "                                    max_no_improvement=100,\n",
    "                                    random_state=1)"
   ]
  },
  {
   "cell_type": "code",
   "execution_count": 26,
   "metadata": {},
   "outputs": [],
   "source": [
    "emb_processor.save_cluster_model(os.path.join(output_dir, f\"cluster_model_{emb_type}.pkl\"))"
   ]
  },
  {
   "cell_type": "code",
   "execution_count": 473,
   "metadata": {},
   "outputs": [],
   "source": [
    "emb_processor.import_cluster_model(os.path.join(output_dir, f\"cluster_model_{emb_type}.pkl\"))"
   ]
  },
  {
   "cell_type": "code",
   "execution_count": null,
   "metadata": {},
   "outputs": [],
   "source": [
    "cluster_percentages = [emb_processor.get_cluster_percentages_for_slide(slide_name.split(\".\")[0]) for slide_name in df[\"ihc_slide_id\"].values]\n",
    "labels = df.Confirmed_OR.map({1: \"Responder\", 0: \"Non-responder\"}).values\n",
    "labels"
   ]
  },
  {
   "cell_type": "code",
   "execution_count": 475,
   "metadata": {},
   "outputs": [],
   "source": [
    "df_plot = pd.DataFrame(cluster_percentages)\n",
    "df_plot[\"Response to treatment\"] = labels\n",
    "df_plot.iloc[:,:-1] *= 100\n",
    "df_plot.to_csv(os.path.join(output_dir, f\"cluster_percentages_{emb_type}.csv\"), index=False)\n",
    "df_plot = df_plot.melt(id_vars='Response to treatment', var_name='Cluster', value_name='Percentage')\n",
    "df_plot.to_csv(os.path.join(output_dir, f\"cluster_percentages_{emb_type}_melted.csv\"), index=False)"
   ]
  },
  {
   "cell_type": "code",
   "execution_count": null,
   "metadata": {},
   "outputs": [],
   "source": [
    "plt.figure(figsize=(12, 6))\n",
    "ax = sns.boxplot(x='Cluster', y='Percentage', hue='Response to treatment', data=df_plot)\n",
    "ax.set_title('Boxplot of Cluster Percentages Stratified  by Response to Treatment')\n",
    "plt.savefig(os.path.join(output_dir, f\"boxplot_{emb_type}.png\"), dpi=300, bbox_inches=\"tight\")"
   ]
  },
  {
   "cell_type": "code",
   "execution_count": 481,
   "metadata": {},
   "outputs": [],
   "source": [
    "bbox_dir = \"../Results/LUNG_bis/bbox_IHC_reg/\"\n",
    "coord_pretrained_dir = \"../Results/LUNG/clustering/patches_80_overlap_0_annotations_IHC/\"\n",
    "coord_warped_dir = \"../Results/LUNG/patches_80_overlap_0_annotations_IHC_warped/\"\n",
    "interpretable_feats_dir = \"../Results/LUNG/feats_80_cell_stain_based_reg_warped_merged_IHC/\"\n",
    "embeddings_names = pd.read_csv(\"../Results/LUNG/feats_80_cell_stain_based_reg_warped_merged_IHC/embeddings_names.csv\")[\"feature_names\"].tolist()\n",
    "selected_feats = [name for name in embeddings_names if \"cells\" in name or \"DAB\" in name]\n",
    "slides_to_analyse = pd.read_csv(f\"../materials/slides_to_analyse_New_cluster_analysis_LUNG.csv\")\n",
    "slide_names = slides_to_analyse[\"slide_name\"].values\n",
    "for slide_name_HE in slide_names:\n",
    "    slide_name_IHC =  slide_name_HE.replace(\"B0-2\", \"B0-1\")\n",
    "    coord_pretrained = ptb.utils.data_utils.read_h5_file(os.path.join(coord_pretrained_dir, f\"{slide_name_IHC}.h5\"), \"coords\")[0]\n",
    "    coord_warped = ptb.utils.data_utils.read_h5_file(os.path.join(coord_warped_dir, f\"{slide_name_IHC}.h5\"), \"coords\")[0]\n",
    "    bbox = ptb.utils.data_utils.read_json_with_geopandas(os.path.join(bbox_dir, f\"{slide_name_IHC}.geojson\")).iloc[0].geometry\n",
    "    indices = [np.where((coord_pretrained == (coord + bbox.bounds[:2]).astype(\"int64\")).all(axis=1))[0].item() for coord in coord_warped]\n",
    "    cluster_assign = emb_processor.get_cluster_assignments_for_slide(slide_name_IHC)[indices]\n",
    "    interpretable_feats = torch.load(os.path.join(interpretable_feats_dir, f\"{slide_name_HE}.pt\"))\n",
    "    selected_feats_idx = np.array([i for i, name in enumerate(embeddings_names) if name in selected_feats])\n",
    "    features = pd.DataFrame(interpretable_feats[:, selected_feats_idx], columns=selected_feats)\n",
    "    features['cluster'] = cluster_assign\n",
    "features_to_plot = [name for name in features.columns if \"DAB_avg\" in name or \"N_cells\" in name] + [\"cluster\"]\n",
    "features.loc[:, features_to_plot].to_csv(os.path.join(output_dir, f\"features_cells_feats_{emb_type}.csv\"), index=False)\n"
   ]
  },
  {
   "cell_type": "markdown",
   "metadata": {},
   "source": [
    "# New clustering analysis"
   ]
  },
  {
   "cell_type": "code",
   "execution_count": 498,
   "metadata": {},
   "outputs": [],
   "source": [
    "output_dir = \"../Results/LUNG/clustering/New_cluster_analysis\"\n",
    "Path(output_dir).mkdir(parents=True, exist_ok=True)"
   ]
  },
  {
   "cell_type": "code",
   "execution_count": 499,
   "metadata": {},
   "outputs": [],
   "source": [
    "with_DAB = True\n",
    "suffix = \"DAB\" if with_DAB else \"only\""
   ]
  },
  {
   "cell_type": "code",
   "execution_count": 500,
   "metadata": {},
   "outputs": [],
   "source": [
    "reg_HE2IHC = \"../Results/LUNG/clustering/reg_HE2IHC/\"\n",
    "slides = []\n",
    "error_HE2IHC = []\n",
    "for slide in os.listdir(reg_HE2IHC):\n",
    "    slides.append(slide)\n",
    "    df_HE2IHC = pd.read_csv(os.path.join(reg_HE2IHC, slide, \"data\", f\"{slide}_summary.csv\"))\n",
    "    error_HE2IHC.append(df_HE2IHC[\"non_rigid_rTRE\"].dropna().values[0])"
   ]
  },
  {
   "cell_type": "code",
   "execution_count": null,
   "metadata": {},
   "outputs": [],
   "source": [
    "df_reg_error = pd.DataFrame({\"slide\": slides, \"error_HE2IHC\": error_HE2IHC})\n",
    "df_reg_error.sort_values(by=\"error_HE2IHC\", ascending=False).head(10)"
   ]
  },
  {
   "cell_type": "code",
   "execution_count": 509,
   "metadata": {},
   "outputs": [],
   "source": [
    "slides_to_analyse = pd.read_csv(f\"../materials/slides_to_analyse_New_cluster_analysis_LUNG.csv\")\n",
    "slide_names = slides_to_analyse[\"slide_name\"].values\n",
    "feats_dir = \"../Results/LUNG/clustering/feats_128_cell_stain_based_reg_warped_merged_HE_new/\"\n",
    "feats_files = [os.path.join(feats_dir, slide_name+\".pt\") for slide_name in slide_names]\n",
    "emb_processor = ptb_emb.EmbeddingProcessor(feats_files, embeddings_names=os.path.join(feats_dir, \"embeddings_names.csv\"), slide_ids=slide_names, cmap=\"Set1\")#"
   ]
  },
  {
   "cell_type": "code",
   "execution_count": 503,
   "metadata": {},
   "outputs": [],
   "source": [
    "if with_DAB:\n",
    "    selected_feats = [name for name in emb_processor.embeddings_names if \"cells\" in name or \"DAB\" in name]\n",
    "else:\n",
    "    selected_feats = [name for name in emb_processor.embeddings_names if \"cells\" in name]"
   ]
  },
  {
   "cell_type": "code",
   "execution_count": null,
   "metadata": {},
   "outputs": [],
   "source": [
    "optimal_nb, scores = emb_processor.get_optimal_number_clusters(\"kmeans\",\n",
    "                                          selected_features=selected_feats,\n",
    "                                          n_init=20,#20\n",
    "                                          min_clusters=7,\n",
    "                                          max_clusters=12,\n",
    "                                          metric_name=\"calinski_harabasz\",\n",
    "                                          normalize=True,\n",
    "                                          random_state=1)\n",
    "optimal_nb, scores"
   ]
  },
  {
   "cell_type": "code",
   "execution_count": 166,
   "metadata": {},
   "outputs": [],
   "source": [
    "pd.DataFrame(scores).to_csv(os.path.join(output_dir, f\"scores_cells_feats_{suffix}.csv\"), index=False)"
   ]
  },
  {
   "cell_type": "code",
   "execution_count": 510,
   "metadata": {},
   "outputs": [],
   "source": [
    "emb_processor.create_cluster_model(\"kmeans\", \n",
    "                                   normalize=True,\n",
    "                                   n_clusters=optimal_nb,\n",
    "                                   selected_features=selected_feats,\n",
    "                                   n_init=20,\n",
    "                                   random_state=1)"
   ]
  },
  {
   "cell_type": "code",
   "execution_count": 168,
   "metadata": {},
   "outputs": [],
   "source": [
    "emb_processor.save_cluster_model(os.path.join(output_dir, f\"cluster_model_cells_feats_{suffix}.pkl\"))"
   ]
  },
  {
   "cell_type": "code",
   "execution_count": null,
   "metadata": {},
   "outputs": [],
   "source": [
    "cluster_percentages = [emb_processor.get_cluster_percentages_for_slide(slide_name.split(\".\")[0]+\"\", selected_features=selected_feats) for slide_name in df[df[\"he_slide_id\"].str.replace(\".svs\", \"\").isin(slide_names)][\"he_slide_id\"].values]\n",
    "labels = df[df[\"he_slide_id\"].str.replace(\".svs\", \"\").isin(slide_names)].Confirmed_OR.map({1: \"Responder\", 0: \"Non-responder\"}).values\n",
    "labels"
   ]
  },
  {
   "cell_type": "code",
   "execution_count": 512,
   "metadata": {},
   "outputs": [],
   "source": [
    "df_plot = pd.DataFrame(cluster_percentages)\n",
    "df_plot[\"Response to treatment\"] = labels\n",
    "df_plot.iloc[:,:-1] *= 100\n",
    "df_plot.to_csv(os.path.join(output_dir, f\"cluster_percentages_cells_feats_{suffix}.csv\"), index=False)\n",
    "df_plot = df_plot.melt(id_vars='Response to treatment', var_name='Cluster', value_name='Percentage')\n",
    "df_plot.to_csv(os.path.join(output_dir, f\"cluster_percentages_cells_feats_{suffix}_melted.csv\"), index=False)"
   ]
  },
  {
   "cell_type": "code",
   "execution_count": null,
   "metadata": {},
   "outputs": [],
   "source": [
    "plt.figure(figsize=(12, 6))\n",
    "ax = sns.boxplot(x='Cluster', y='Percentage', hue='Response to treatment', data=df_plot)\n",
    "ax.set_title('Boxplot of Cluster Percentages Stratified  by Response to Treatment')\n",
    "plt.savefig(os.path.join(output_dir, f\"boxplot_cells_feats_{suffix}.png\"), dpi=300, bbox_inches=\"tight\")"
   ]
  },
  {
   "cell_type": "markdown",
   "metadata": {},
   "source": [
    "# Cell staining distribution analysis"
   ]
  },
  {
   "cell_type": "code",
   "execution_count": 13,
   "metadata": {},
   "outputs": [],
   "source": [
    "output_dir = \"../Results/LUNG/nuclei_IHC/Cell_staining_distribution\"\n",
    "Path(output_dir).mkdir(parents=True, exist_ok=True)"
   ]
  },
  {
   "cell_type": "code",
   "execution_count": null,
   "metadata": {},
   "outputs": [],
   "source": [
    "from sklearn.cluster import KMeans"
   ]
  },
  {
   "cell_type": "code",
   "execution_count": null,
   "metadata": {},
   "outputs": [],
   "source": [
    "labels = df.Confirmed_OR.map({1: \"Responder\", 0: \"Non-responder\"}).values\n",
    "labels"
   ]
  },
  {
   "cell_type": "code",
   "execution_count": 16,
   "metadata": {},
   "outputs": [],
   "source": [
    "detection_dir = \"../Results/LUNG/nuclei_IHC/QuPath/detection_measurements/\"\n",
    "slides = [file.replace(\".csv\", \"\") for file in os.listdir(detection_dir)]\n",
    "detections = [pd.read_csv(os.path.join(detection_dir, file), sep=\"\\t\") for file in os.listdir(detection_dir)]"
   ]
  },
  {
   "cell_type": "code",
   "execution_count": null,
   "metadata": {},
   "outputs": [],
   "source": [
    "values = np.concatenate([detections[i]['DAB: Cell: Mean'].values for i in range(len(detections))])\n",
    "kmeans = KMeans(n_clusters=2, random_state=0).fit(values.reshape(-1, 1))\n",
    "kmeans.cluster_centers_.mean()"
   ]
  },
  {
   "cell_type": "code",
   "execution_count": 18,
   "metadata": {},
   "outputs": [],
   "source": [
    "features = {slides[i]: detection[(detection[\"DAB: Cell: Mean\"] > 0.20)&(detection[\"DAB: Cytoplasm: Min\"] > 0.)][\"DAB: Cytoplasm: Variance\"].mean() for i, detection in enumerate(detections)}"
   ]
  },
  {
   "cell_type": "code",
   "execution_count": 19,
   "metadata": {},
   "outputs": [],
   "source": [
    "reorganised_features = [features[slide_id.replace(\".svs\", \"\")] for slide_id in df[\"ihc_slide_id\"].values]"
   ]
  },
  {
   "cell_type": "code",
   "execution_count": 69,
   "metadata": {},
   "outputs": [],
   "source": [
    "df_plot = pd.DataFrame({\"cytoplasm_dab_avg_var\": reorganised_features})\n",
    "df_plot[\"Response to treatment\"] = labels\n",
    "df_plot = df_plot.dropna()\n",
    "df_plot.to_csv(os.path.join(output_dir, \"cytoplasm_dab_avg_var.csv\"), index=False)"
   ]
  },
  {
   "cell_type": "code",
   "execution_count": null,
   "metadata": {},
   "outputs": [],
   "source": [
    "plt.figure(figsize=(12, 6))\n",
    "ax = sns.boxplot(x='Response to treatment', y='cytoplasm_dab_avg_var', data=df_plot)\n",
    "ax.set_title('Boxplot of the average DAB variance measured in cytoplasm stratified  by response to treatment')\n",
    "pairs=[(\"Non-responder\", \"Responder\")]\n",
    "annotator = Annotator(ax, pairs, data=df_plot, x=\"Response to treatment\", y=\"cytoplasm_dab_avg_var\")\n",
    "annotator.configure(test='Mann-Whitney', text_format='star', loc='inside')\n",
    "annotator.apply_and_annotate()\n",
    "plt.savefig(os.path.join(output_dir, \"boxplot_cytoplasm_dab_avg_var.png\"), dpi=300, bbox_inches=\"tight\")"
   ]
  },
  {
   "cell_type": "code",
   "execution_count": null,
   "metadata": {},
   "outputs": [],
   "source": []
  }
 ],
 "metadata": {
  "kernelspec": {
   "display_name": "icarus",
   "language": "python",
   "name": "python3"
  },
  "language_info": {
   "codemirror_mode": {
    "name": "ipython",
    "version": 3
   },
   "file_extension": ".py",
   "mimetype": "text/x-python",
   "name": "python",
   "nbconvert_exporter": "python",
   "pygments_lexer": "ipython3",
   "version": "3.10.13"
  }
 },
 "nbformat": 4,
 "nbformat_minor": 2
}
